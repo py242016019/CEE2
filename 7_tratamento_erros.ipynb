{
  "nbformat": 4,
  "nbformat_minor": 0,
  "metadata": {
    "colab": {
      "provenance": [],
      "include_colab_link": true
    },
    "kernelspec": {
      "name": "python3",
      "display_name": "Python 3"
    },
    "language_info": {
      "name": "python"
    }
  },
  "cells": [
    {
      "cell_type": "markdown",
      "metadata": {
        "id": "view-in-github",
        "colab_type": "text"
      },
      "source": [
        "<a href=\"https://colab.research.google.com/github/py242016019/CEE2/blob/main/7_tratamento_erros.ipynb\" target=\"_parent\"><img src=\"https://colab.research.google.com/assets/colab-badge.svg\" alt=\"Open In Colab\"/></a>"
      ]
    },
    {
      "cell_type": "markdown",
      "source": [
        "# Tratamento de erros"
      ],
      "metadata": {
        "id": "sSvSYtmCw5QB"
      }
    },
    {
      "cell_type": "markdown",
      "source": [
        "Tratamento de erros (ou tratamento de exceções) serve para lidar com situações inesperadas que podem ocorrer durante a execução do programa, como:\n",
        "\n",
        "- Divisão por zero\n",
        "\n",
        "- Arquivo não encontrado\n",
        "\n",
        "- Valor inválido\n",
        "\n",
        "- Conexão de rede falhando\n",
        "\n",
        "Se você não tratar esses erros, o programa quebra (lança uma exceção e para de executar).\n",
        "\n",
        "\n",
        "## try-except\n",
        "\n",
        "A base do tratamento de exceções é a estrutura **try-except**.\n",
        "\n",
        "Os diferentes tipos de erros definidos no *Python* estão descritos em https://docs.python.org/3/library/exceptions.html#bltin-exceptions\n"
      ],
      "metadata": {
        "id": "33Kf1HGAiha8"
      }
    },
    {
      "cell_type": "markdown",
      "source": [
        "**Exemplo**: no exemplo abaixo é feita a tentativa de printar um variável `x`, mas essa variável não esta definida, o que iria gerar um erro e parar a execução, no entanto, como foi executado dentro de um bloco `try`, o erro vai gerar uma excessão que pode ser tratada de modo a manter o código funcionando. No caso, o tratamento será apenas apresentar um mensagem para o usuário alertando que ocorreu um erro."
      ],
      "metadata": {
        "id": "QEoSdD8VldYD"
      }
    },
    {
      "cell_type": "code",
      "source": [
        "# Este bloco gera um erro pois 'x' não está definida.\n",
        "try:\n",
        "  print(x)\n",
        "except:\n",
        "  print(\"Ocorreu uma excessão (erro)\")"
      ],
      "metadata": {
        "id": "DVNemK-jiwvO",
        "colab": {
          "base_uri": "https://localhost:8080/"
        },
        "outputId": "d3cdfb65-8213-406b-9dee-0bbd7ed876b0"
      },
      "execution_count": null,
      "outputs": [
        {
          "output_type": "stream",
          "name": "stdout",
          "text": [
            "Ocorreu uma excessão (erro)\n"
          ]
        }
      ]
    },
    {
      "cell_type": "markdown",
      "source": [
        "É possível definir blocos `except` para diferentes tipos de erros.\n",
        "\n",
        "No exemplo abaixo, temos uma função que simplesmente divide dois valores. Para tratar todos possíveis erros, utilizamos os seguinte blocos:\n",
        "* `try`: O bloco try executa o código que pode gerar uma exceção.\n",
        "* `except ZeroDivisionError`: Este bloco captura o erro de divisão por zero, exibindo uma mensagem de erro.\n",
        "* `except TypeError`: Este bloco captura erros de tipo (caso um dos argumentos não seja um número), também exibindo uma mensagem.\n",
        "* `else`: Executado apenas se o código no bloco try não gerar nenhuma exceção, exibe o resultado da divisão.\n",
        "* `finally`: Este bloco é sempre executado, independentemente de ocorrer uma exceção, e pode ser útil para limpar recursos ou informar o usuário sobre o fim da operação."
      ],
      "metadata": {
        "id": "iLTTBmJ8jGpS"
      }
    },
    {
      "cell_type": "code",
      "source": [
        "def dividir_numeros(a, b):\n",
        "    try:\n",
        "        resultado = a / b\n",
        "    except ZeroDivisionError:\n",
        "        print(\"Erro: Não é possível dividir por zero.\")\n",
        "    except TypeError:\n",
        "        print(\"Erro: Ambos os valores devem ser números.\")\n",
        "    else:\n",
        "        print(resultado)\n",
        "    finally:\n",
        "        print(\"Operação de divisão finalizada.\")\n",
        "\n",
        "# Exemplos de uso\n",
        "\n",
        "dividir_numeros(10, 2)\n",
        "# Saída:\n",
        "## 5.0\n",
        "## Operação de divisão finalizada.\n",
        "print(\"---\")\n",
        "\n",
        "dividir_numeros(10, 0)\n",
        "# Saída:\n",
        "## Erro: Não é possível dividir por zero.\n",
        "## Operação de divisão finalizada.\n",
        "print(\"---\")\n",
        "\n",
        "dividir_numeros(10, 'a')\n",
        "# Saída:\n",
        "## Erro: Ambos os valores devem ser números.\n",
        "## Operação de divisão finalizada."
      ],
      "metadata": {
        "id": "JWk6yuDBdTD5",
        "colab": {
          "base_uri": "https://localhost:8080/"
        },
        "outputId": "84a3cf8b-e3e5-4237-f34d-0e7b9fc063a0"
      },
      "execution_count": null,
      "outputs": [
        {
          "output_type": "stream",
          "name": "stdout",
          "text": [
            "5.0\n",
            "Operação de divisão finalizada.\n",
            "---\n",
            "Erro: Não é possível dividir por zero.\n",
            "Operação de divisão finalizada.\n",
            "---\n",
            "Erro: Ambos os valores devem ser números.\n",
            "Operação de divisão finalizada.\n"
          ]
        }
      ]
    },
    {
      "cell_type": "markdown",
      "source": [
        " A palavra `finally` pode ser utilizada para encerrar acessos e liberar recursos.\n",
        "\n",
        " No exemplo abaixo, o programa abre um arquivo e tenta escrever, mas caso seja gerado algum erro na escrita, então o `finally`é utilizado para fechar o arquivo."
      ],
      "metadata": {
        "id": "7brYJLpzkCZj"
      }
    },
    {
      "cell_type": "code",
      "source": [
        "try:\n",
        "  f = open(\"demofile.txt\")\n",
        "  try:\n",
        "    f.write(\"Lorem ipsum\")\n",
        "  except:\n",
        "    print(\"Não foi possível escrever no arquivo.\")\n",
        "  finally:\n",
        "    f.close()\n",
        "except:\n",
        "  print(\"Houve um erro na abertura do arquivo.\")"
      ],
      "metadata": {
        "id": "JUr3JaczkKGj",
        "colab": {
          "base_uri": "https://localhost:8080/"
        },
        "outputId": "a108381d-5e48-4edd-a829-d2187eaf69c3"
      },
      "execution_count": null,
      "outputs": [
        {
          "output_type": "stream",
          "name": "stdout",
          "text": [
            "Houve um erro na abertura do arquivo.\n"
          ]
        }
      ]
    },
    {
      "cell_type": "markdown",
      "source": [
        "O tratamento também pode ser feito fora da função. Veja o exemplo."
      ],
      "metadata": {
        "id": "ii7inCwix4_x"
      }
    },
    {
      "cell_type": "code",
      "source": [
        "def dividir(a, b):\n",
        "    return a / b\n",
        "\n",
        "try:\n",
        "    resultado = dividir(10, 0)\n",
        "    print(resultado)\n",
        "except:\n",
        "    print(\"Erro detectado na função:\")"
      ],
      "metadata": {
        "id": "kkZbFUQ6x-um",
        "colab": {
          "base_uri": "https://localhost:8080/"
        },
        "outputId": "ec1dbd18-69ab-44a6-e0ee-2e7492584742"
      },
      "execution_count": null,
      "outputs": [
        {
          "output_type": "stream",
          "name": "stdout",
          "text": [
            "Erro detectado na função:\n"
          ]
        }
      ]
    },
    {
      "cell_type": "markdown",
      "source": [
        "Também podemos sinalizar um erro premeditado utilizando `raise`, neste caso, a execução é encerrada e o erro é apresentado."
      ],
      "metadata": {
        "id": "9E9LrVX1zEiv"
      }
    },
    {
      "cell_type": "code",
      "source": [
        "def dividir(a, b):\n",
        "    if b == 0:\n",
        "        raise ValueError(\"Não é possível dividir por zero.\")\n",
        "    return a / b\n",
        "\n",
        "try:\n",
        "    resultado = dividir(10, 0)\n",
        "except ValueError as e:\n",
        "    print(\"Erro detectado na função:\", e)"
      ],
      "metadata": {
        "id": "AP8LgbUlzYRR",
        "colab": {
          "base_uri": "https://localhost:8080/"
        },
        "outputId": "904998e8-c961-4b29-e3f7-7f52bdd21a0b"
      },
      "execution_count": null,
      "outputs": [
        {
          "output_type": "stream",
          "name": "stdout",
          "text": [
            "Erro detectado na função: Não é possível dividir por zero.\n"
          ]
        }
      ]
    },
    {
      "cell_type": "markdown",
      "source": [
        "## Exercício 1:\n",
        "\n",
        "Para a lista abaixo, escreva um programa que peça ao usuário um índice e então apresente o elemento da lista na posição correspondente. Trate os possíveis erros:\n",
        "* O valor digitado não for um número (ValueError).\n",
        "* O índice estiver fora do intervalo da lista (IndexError).\n",
        "\n",
        "```python\n",
        "lista = [\"maçã\", \"banana\", \"laranja\", \"uva\", \"melancia\"]\n",
        "```"
      ],
      "metadata": {
        "id": "6VNt_rrK1Ga3"
      }
    },
    {
      "cell_type": "code",
      "source": [
        "lista = [\"maçã\", \"banana\", \"laranja\", \"uva\", \"melancia\"]\n",
        "try:\n",
        "  indice= int(input())\n",
        "  print(lista[indice])\n",
        "except ValueError:\n",
        "  print(\"Erro: o valor deigitado nao é um número.\")\n",
        "except IndexError:\n",
        "  print(\"Erro: o índice está fora do intervalo da lista.\")\n"
      ],
      "metadata": {
        "colab": {
          "base_uri": "https://localhost:8080/"
        },
        "id": "s4FEVkgQwd4z",
        "outputId": "274c64d5-bf4a-47af-82f4-90018d24fc03"
      },
      "execution_count": null,
      "outputs": [
        {
          "output_type": "stream",
          "name": "stdout",
          "text": [
            "10\n",
            "Erro: o índice está fora do intervalo da lista.\n"
          ]
        }
      ]
    }
  ]
}