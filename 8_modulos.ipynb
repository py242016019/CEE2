{
  "nbformat": 4,
  "nbformat_minor": 0,
  "metadata": {
    "colab": {
      "provenance": [],
      "include_colab_link": true
    },
    "kernelspec": {
      "name": "python3",
      "display_name": "Python 3"
    },
    "language_info": {
      "name": "python"
    }
  },
  "cells": [
    {
      "cell_type": "markdown",
      "metadata": {
        "id": "view-in-github",
        "colab_type": "text"
      },
      "source": [
        "<a href=\"https://colab.research.google.com/github/py242016019/CEE2/blob/main/8_modulos.ipynb\" target=\"_parent\"><img src=\"https://colab.research.google.com/assets/colab-badge.svg\" alt=\"Open In Colab\"/></a>"
      ]
    },
    {
      "cell_type": "markdown",
      "source": [
        "# Modularização de códigos (bibliotecas)\n"
      ],
      "metadata": {
        "id": "nWvtlNk6rZjh"
      }
    },
    {
      "cell_type": "markdown",
      "source": [
        "Um **módulo** é o conceito usado pelo *Python* semelhante às bibliotecas no R ou no C: um arquivo contendo códigos que pode ser utilizado em outro arquivo de código.\n",
        "\n",
        "> Os módulos podem conter funções e também podem conter vetores, dicionários, objetos, classes, etc.\n",
        "\n",
        "> Para criar um **módulo** apenas grave o código com as funções e classes que deseja reaproveitar em um arquivo com extensão `.py`."
      ],
      "metadata": {
        "id": "ythSyQdrrwPK"
      }
    },
    {
      "cell_type": "markdown",
      "source": [
        "## Exemplo 1: criando módulos\n",
        "\n",
        "Vamos criar um módulo chamado `meu_modulo.py` e vamos colocar algumas funções da ultima aula dentro dele.\n",
        "\n",
        "> O comando `%%writefile` é utilizado para escrever o conteúdo de uma célula do notebook em um arquivo. O arquivo ficará disponível no seu ambiente de trabalho.\n",
        "\n",
        "> Para isto, rode a célula abaixo."
      ],
      "metadata": {
        "id": "mU2XtuWwvf8I"
      }
    },
    {
      "cell_type": "code",
      "source": [
        "# Cria um arquivo chamado meu_modulo.py\n",
        "%%writefile meu_modulo.py\n",
        "\n",
        "def soma(a, b):\n",
        "    return a + b\n",
        "\n",
        "def squared(x):\n",
        "  return x ** 2\n",
        "\n",
        "def cumprimentar(nome):\n",
        "    print(f\"Olá, {nome}! Seja bem-vindo.\")\n",
        "\n",
        "def cumprimentar2(cumprimento, nome):\n",
        "    print(cumprimento + \", \" + nome + \"!\")"
      ],
      "metadata": {
        "id": "KPkLoHJktfw8",
        "colab": {
          "base_uri": "https://localhost:8080/"
        },
        "outputId": "e1227dcf-c60b-4eca-9bd7-9884a2119bfe"
      },
      "execution_count": null,
      "outputs": [
        {
          "output_type": "stream",
          "name": "stdout",
          "text": [
            "Writing meu_modulo.py\n"
          ]
        }
      ]
    },
    {
      "cell_type": "code",
      "source": [
        "from google.colab import drive\n",
        "drive.mount('/content/drive')"
      ],
      "metadata": {
        "id": "Cspim0l9pN2_"
      },
      "execution_count": null,
      "outputs": []
    },
    {
      "cell_type": "markdown",
      "source": [
        "## Import\n",
        "\n",
        "Para utilizar um módulo basta importar o módulo com a palavra `import`.\n",
        "\n",
        "> Ao importar um módulo usando `import modulo`, o *Python* cria um novo **namespace** (espaço de nomes) chamado `modulo` com o conteúdo deste módulo. Para usar uma função definida no módulo use a sintaxe `modulo.funcao()` para informar que a `funcao()` está definida no *namespace* `modulo`."
      ],
      "metadata": {
        "id": "PpgLQ_wwxeE1"
      }
    },
    {
      "cell_type": "markdown",
      "source": [
        "## Exemplo 2: carregando e utilizando um módulo\n",
        "\n",
        "> Na célula abaixo o módulo gerado no Exemplo 1 é carregado e as funções são utilizadas."
      ],
      "metadata": {
        "id": "yq2JRM21yfSY"
      }
    },
    {
      "cell_type": "code",
      "source": [
        "import meu_modulo\n",
        "\n",
        "a = meu_modulo.soma(5, 10)\n",
        "print(a)\n",
        "\n",
        "b = meu_modulo.squared(2)\n",
        "print(b)\n",
        "\n",
        "meu_modulo.cumprimentar(\"Ana\")\n",
        "\n",
        "meu_modulo.cumprimentar2(\"Boa tarde\", \"João\")"
      ],
      "metadata": {
        "id": "kdnWAfnoyvmD",
        "colab": {
          "base_uri": "https://localhost:8080/"
        },
        "outputId": "e549889b-f839-4a8c-e014-f1b2bd5701fe"
      },
      "execution_count": null,
      "outputs": [
        {
          "output_type": "stream",
          "name": "stdout",
          "text": [
            "15\n",
            "4\n",
            "Olá, Ana! Seja bem-vindo.\n",
            "Boa tarde, João!\n"
          ]
        }
      ]
    },
    {
      "cell_type": "markdown",
      "source": [
        "É possível definir um **apelido** alterando o nome do *namespace* com o uso da palavra `as`.\n",
        "\n",
        "> A célula abaixo é equivalente ao Exemplo 2, apenas alterando o nome da biblioteca."
      ],
      "metadata": {
        "id": "UKqLyNQxz2KB"
      }
    },
    {
      "cell_type": "code",
      "source": [
        "import meu_modulo as mm\n",
        "\n",
        "a = mm.soma(5, 10)\n",
        "print(a)\n",
        "\n",
        "b = mm.squared(2)\n",
        "print(b)\n",
        "\n",
        "mm.cumprimentar(\"Ana\")\n",
        "\n",
        "mm.cumprimentar2(\"Boa tarde\", \"João\")"
      ],
      "metadata": {
        "id": "43pxZjzHue7o",
        "colab": {
          "base_uri": "https://localhost:8080/"
        },
        "outputId": "5ff1764c-61e2-4d64-9041-565d8d4fbf05"
      },
      "execution_count": null,
      "outputs": [
        {
          "output_type": "stream",
          "name": "stdout",
          "text": [
            "15\n",
            "4\n",
            "Olá, Ana! Seja bem-vindo.\n",
            "Boa tarde, João!\n"
          ]
        }
      ]
    },
    {
      "cell_type": "markdown",
      "source": [
        "## Módulos do Python"
      ],
      "metadata": {
        "id": "SGfUXqaYteYp"
      }
    },
    {
      "cell_type": "markdown",
      "source": [
        "Existem diversos módulos pré-definidos no *Python* que podem ser importados com `import`:"
      ],
      "metadata": {
        "id": "XlfGEiSog2fD"
      }
    },
    {
      "cell_type": "code",
      "source": [
        "import platform\n",
        "print(platform.system())"
      ],
      "metadata": {
        "id": "3501ocqXhBkD",
        "colab": {
          "base_uri": "https://localhost:8080/"
        },
        "outputId": "e747790d-ad81-42d0-eedd-4b4e1de97265"
      },
      "execution_count": null,
      "outputs": [
        {
          "output_type": "stream",
          "name": "stdout",
          "text": [
            "Linux\n"
          ]
        }
      ]
    },
    {
      "cell_type": "markdown",
      "source": [
        "A função `dir()` lista todos os elementos de um módulo."
      ],
      "metadata": {
        "id": "JIUDU_W2hKCl"
      }
    },
    {
      "cell_type": "code",
      "source": [
        "import math\n",
        "\n",
        "for item in dir(math):\n",
        "  print(item)"
      ],
      "metadata": {
        "id": "OQhiMCfhhOCV",
        "colab": {
          "base_uri": "https://localhost:8080/"
        },
        "outputId": "0c3e2284-524c-4b95-d696-243ee33de1d6"
      },
      "execution_count": null,
      "outputs": [
        {
          "output_type": "stream",
          "name": "stdout",
          "text": [
            "__doc__\n",
            "__loader__\n",
            "__name__\n",
            "__package__\n",
            "__spec__\n",
            "acos\n",
            "acosh\n",
            "asin\n",
            "asinh\n",
            "atan\n",
            "atan2\n",
            "atanh\n",
            "cbrt\n",
            "ceil\n",
            "comb\n",
            "copysign\n",
            "cos\n",
            "cosh\n",
            "degrees\n",
            "dist\n",
            "e\n",
            "erf\n",
            "erfc\n",
            "exp\n",
            "exp2\n",
            "expm1\n",
            "fabs\n",
            "factorial\n",
            "floor\n",
            "fmod\n",
            "frexp\n",
            "fsum\n",
            "gamma\n",
            "gcd\n",
            "hypot\n",
            "inf\n",
            "isclose\n",
            "isfinite\n",
            "isinf\n",
            "isnan\n",
            "isqrt\n",
            "lcm\n",
            "ldexp\n",
            "lgamma\n",
            "log\n",
            "log10\n",
            "log1p\n",
            "log2\n",
            "modf\n",
            "nan\n",
            "nextafter\n",
            "perm\n",
            "pi\n",
            "pow\n",
            "prod\n",
            "radians\n",
            "remainder\n",
            "sin\n",
            "sinh\n",
            "sqrt\n",
            "tan\n",
            "tanh\n",
            "tau\n",
            "trunc\n",
            "ulp\n"
          ]
        }
      ]
    },
    {
      "cell_type": "markdown",
      "source": [
        "É possível importar apenas partes de um módulo usando a palavra `from`. Veja o exemplo:\n"
      ],
      "metadata": {
        "id": "r1rESk6VhWhT"
      }
    },
    {
      "cell_type": "code",
      "source": [
        "from math import pi, sqrt\n",
        "\n",
        "print(pi)\n",
        "\n",
        "print(sqrt(25))"
      ],
      "metadata": {
        "id": "yM7O2lMMcMXl",
        "colab": {
          "base_uri": "https://localhost:8080/"
        },
        "outputId": "1543f268-e5c3-4a08-8bbb-45656a43d28d"
      },
      "execution_count": null,
      "outputs": [
        {
          "output_type": "stream",
          "name": "stdout",
          "text": [
            "3.141592653589793\n",
            "5.0\n"
          ]
        }
      ]
    },
    {
      "cell_type": "markdown",
      "source": [
        "**Nota:** elementos importados com `from` não usam o nome do módulo. Note que no exemplo, usamos:\n",
        "* `pi` ao invés de `math.pi`;\n",
        "* `sqrt` ao invés de `math.sqrt`."
      ],
      "metadata": {
        "id": "hNeUuTYVcVp0"
      }
    },
    {
      "cell_type": "markdown",
      "source": [
        "## Instalando novos módulos"
      ],
      "metadata": {
        "id": "Vg5gyfQewfes"
      }
    },
    {
      "cell_type": "markdown",
      "source": [
        "No *Python* é possível instalar novos módulos com o comando\n",
        "```bash\n",
        "pip install nome_do_modulo\n",
        "```\n",
        "> Esse comando deve ser executado no terminal e instala o módulo no ambiente Python ativo (por exemplo, o ambiente virtual ou global).\n",
        "\n",
        "Em um notebook Jupyter (ou Colab), também é possível instalar bibliotecas diretamente em uma célula usando:\n",
        "```python\n",
        "!pip install nome_do_modulo\n",
        "```\n",
        "> Neste caso, a biblioteca será instalada no ambiente de execução atual do notebook (geralmente o mesmo ambiente onde o Jupyter foi iniciado).\n",
        "\n",
        "\n",
        "Na plataforma Anaconda, é recomendável utilizar o gerenciador de pacotes `conda` para instalar bibliotecas que estejam disponíveis em seus repositórios. O comando é:\n",
        "```bash\n",
        "conda install nome_do_modulo\n",
        "```\n",
        "> Esse comando também deve ser usado no terminal (ou no Anaconda Prompt). Ele cuida melhor da compatibilidade entre dependências."
      ],
      "metadata": {
        "id": "Xm4cJ1dgiJYC"
      }
    },
    {
      "cell_type": "markdown",
      "source": [
        "## Biblioteca Padrão do Python\n",
        "\n",
        "A **Biblioteca Padrão do Python** é um conjunto extenso de módulos e pacotes integrados que fornecem soluções para uma ampla gama de tarefas comuns, sem a necessidade de instalar bibliotecas adicionais. Ela inclui ferramentas para manipulação de arquivos, expressões regulares, cálculos matemáticos, comunicação de rede, criptografia, manipulação de dados e muito mais.\n",
        "\n",
        "Aqui estão alguns dos módulos mais utilizados da **Biblioteca Padrão**:\n",
        "\n",
        "1. **`math`**: Fornece funções matemáticas, como funções trigonométricas, exponenciais, fatoriais e arredondamento.\n",
        "1. **`statistics`**: Funções para cálculos básicos de estatísticas, como média, mediana, desvio padrão, correlação, etc.\n",
        "1. **`datetime`**: Manipula datas e horas, permitindo a criação, formatação e cálculo de intervalos de tempo.\n",
        "1. **`os`**: Oferece funções para interação com o sistema operacional, como manipulação de arquivos, diretórios e variáveis de ambiente.\n",
        "1. **`re`**: Oferece suporte a expressões regulares, permitindo a busca e manipulação de padrões em strings.\n",
        "1. **`http`**: Suporta funcionalidades de comunicação HTTP, como criação de servidores web e envio de requisições.\n",
        "\n",
        "A biblioteca padrão do Python é vasta, cobrindo uma ampla variedade de funcionalidades essenciais. Para mais detalhes, você pode consultar a [documentação oficial](https://docs.python.org/pt-br/3/library).\n"
      ],
      "metadata": {
        "id": "y6gpUNfkeqXK"
      }
    },
    {
      "cell_type": "markdown",
      "source": [
        "## Principais Bibliotecas do Python\n",
        "\n",
        "### 1. **NumPy**\n",
        "   - **Descrição**: Biblioteca fundamental para computação científica. Fornece suporte para arrays multidimensionais e funções matemáticas de alto nível.\n",
        "   - **Uso principal**: Operações numéricas, álgebra linear, transformadas de Fourier, geração de números aleatórios, manipulação de grandes volumes de dados.\n",
        "   - **Instalação**: `pip install numpy`\n",
        "\n",
        "### 2. **Pandas**\n",
        "   - **Descrição**: Ferramenta poderosa para análise e manipulação de dados em grandes volumes, com estrutura de DataFrames (tabela de dados) e Series (colunas individuais) para organizar, limpar e transformar dados de forma prática.\n",
        "   - **Uso principal**: Manipulação de dados tabulares, leitura/escrita de arquivos CSV, Excel, etc.\n",
        "   - **Instalação**: `pip install pandas`\n",
        "\n",
        "### 3. **Matplotlib**\n",
        "   - **Descrição**: Biblioteca para criação de gráficos 2D, como gráficos de linha, barras e dispersão.\n",
        "   - **Uso principal**: Visualização de dados através de gráficos.\n",
        "   - **Instalação**: `pip install matplotlib`\n",
        "\n",
        "### 4. **Seaborn**\n",
        "   - **Descrição**: Biblioteca de visualização de dados baseada no Matplotlib, com gráficos estatísticos.\n",
        "   - **Uso principal**: Criação de gráficos estatísticos simples como gráficos de densidade e correlação.\n",
        "   - **Instalação**: `pip install seaborn`\n",
        "\n",
        "### 5. **Scikit-learn**\n",
        "   - **Descrição**: Biblioteca para aprendizado de máquina, contendo ferramentas simples e eficientes para mineração de dados e análise preditiva.\n",
        "   - **Uso principal**: Regressão, classificação, clustering e pré-processamento de dados.\n",
        "   - **Instalação**: `pip install scikit-learn`\n",
        "\n",
        "### 6. **TensorFlow**\n",
        "   - **Descrição**: Biblioteca de aprendizado profundo e machine learning desenvolvida pelo Google.\n",
        "   - **Uso principal**: Treinamento de redes neurais, deep learning, reconhecimento de padrões.\n",
        "   - **Instalação**: `pip install tensorflow`\n",
        "\n",
        "### 7. **Keras**\n",
        "   - **Descrição**: Biblioteca de alto nível para construção e treinamento de redes neurais, que pode ser usada com TensorFlow.\n",
        "   - **Uso principal**: Simplificação do desenvolvimento de redes neurais.\n",
        "   - **Instalação**: `pip install keras`\n",
        "\n",
        "### 8. **Requests**\n",
        "   - **Descrição**: Biblioteca simples para fazer requisições HTTP de maneira fácil e eficiente.\n",
        "   - **Uso principal**: Comunicação com APIs e envio de requisições HTTP (GET, POST, etc.).\n",
        "   - **Instalação**: `pip install requests`\n",
        "\n",
        "### 9. **BeautifulSoup**\n",
        "   - **Descrição**: Biblioteca para web scraping, usada para extrair dados de páginas HTML e XML.\n",
        "   - **Uso principal**: Extração de dados de sites.\n",
        "   - **Instalação**: `pip install beautifulsoup4`\n"
      ],
      "metadata": {
        "id": "Kp1EMOpRbnht"
      }
    },
    {
      "cell_type": "markdown",
      "source": [
        "## Exercício\n",
        "\n",
        "Apenas faça o commit para o seu repositório do github."
      ],
      "metadata": {
        "id": "Cp3rFNkA4G3u"
      }
    },
    {
      "cell_type": "code",
      "source": [],
      "metadata": {
        "id": "YcebqpeusuZ-"
      },
      "execution_count": null,
      "outputs": []
    }
  ]
}