{
  "nbformat": 4,
  "nbformat_minor": 0,
  "metadata": {
    "colab": {
      "provenance": [],
      "authorship_tag": "ABX9TyMCtrBGAIh62hqbnBaHj/5i",
      "include_colab_link": true
    },
    "kernelspec": {
      "name": "python3",
      "display_name": "Python 3"
    },
    "language_info": {
      "name": "python"
    }
  },
  "cells": [
    {
      "cell_type": "markdown",
      "metadata": {
        "id": "view-in-github",
        "colab_type": "text"
      },
      "source": [
        "<a href=\"https://colab.research.google.com/github/py242016019/CEE2/blob/main/trabalho_1.ipynb\" target=\"_parent\"><img src=\"https://colab.research.google.com/assets/colab-badge.svg\" alt=\"Open In Colab\"/></a>"
      ]
    },
    {
      "cell_type": "markdown",
      "source": [
        "1. Acessar a API do Banco Central e baixar a série temporal diária da Taxa SELIC dentro de um intervalo especificado (exemplo: 02/03/2015 até 06/03/2015)."
      ],
      "metadata": {
        "id": "cePq_u0RhZvl"
      }
    },
    {
      "cell_type": "code",
      "source": [
        "!pip install requests\n",
        "!pip install beautifulsoup4\n",
        "import requests\n",
        "from bs4 import BeautifulSoup\n",
        "import pandas as pd\n",
        "import matplotlib.pyplot as plt\n",
        "from io import StringIO\n",
        "import numpy as np\n"
      ],
      "metadata": {
        "colab": {
          "base_uri": "https://localhost:8080/"
        },
        "id": "kyApg4o5wajt",
        "outputId": "a9b0088a-06da-4300-8210-fbde93691c6a"
      },
      "execution_count": null,
      "outputs": [
        {
          "output_type": "stream",
          "name": "stdout",
          "text": [
            "Requirement already satisfied: requests in /usr/local/lib/python3.11/dist-packages (2.32.3)\n",
            "Requirement already satisfied: charset-normalizer<4,>=2 in /usr/local/lib/python3.11/dist-packages (from requests) (3.4.2)\n",
            "Requirement already satisfied: idna<4,>=2.5 in /usr/local/lib/python3.11/dist-packages (from requests) (3.10)\n",
            "Requirement already satisfied: urllib3<3,>=1.21.1 in /usr/local/lib/python3.11/dist-packages (from requests) (2.4.0)\n",
            "Requirement already satisfied: certifi>=2017.4.17 in /usr/local/lib/python3.11/dist-packages (from requests) (2025.4.26)\n",
            "Requirement already satisfied: beautifulsoup4 in /usr/local/lib/python3.11/dist-packages (4.13.4)\n",
            "Requirement already satisfied: soupsieve>1.2 in /usr/local/lib/python3.11/dist-packages (from beautifulsoup4) (2.7)\n",
            "Requirement already satisfied: typing-extensions>=4.0.0 in /usr/local/lib/python3.11/dist-packages (from beautifulsoup4) (4.14.0)\n"
          ]
        }
      ]
    },
    {
      "cell_type": "code",
      "execution_count": null,
      "metadata": {
        "colab": {
          "base_uri": "https://localhost:8080/"
        },
        "id": "7qIc_IWQXOUh",
        "outputId": "3c8ad930-4fc5-416f-c4f6-7f269b6fdeab"
      },
      "outputs": [
        {
          "output_type": "stream",
          "name": "stdout",
          "text": [
            "Digite a data inicial (DD-MM-AAAA): 02/03/2015\n",
            "Digite a data final (DD-MM-AAAA): 22/03/2015\n",
            "         data     valor\n",
            "0  2015-03-02  0,045513\n",
            "1  2015-03-03  0,045513\n",
            "2  2015-03-04  0,045513\n",
            "3  2015-03-05  0,047279\n",
            "4  2015-03-06  0,047279\n",
            "5  2015-03-09  0,047279\n",
            "6  2015-03-10  0,047279\n",
            "7  2015-03-11  0,047279\n",
            "8  2015-03-12  0,047279\n",
            "9  2015-03-13  0,047279\n",
            "10 2015-03-16  0,047279\n",
            "11 2015-03-17  0,047279\n",
            "12 2015-03-18  0,047279\n",
            "13 2015-03-19  0,047279\n",
            "14 2015-03-20  0,047279\n"
          ]
        }
      ],
      "source": [
        "inicio= input(\"Digite a data inicial (DD-MM-AAAA): \")\n",
        "fim= input(\"Digite a data final (DD-MM-AAAA): \")\n",
        "\n",
        "url=f\"https://api.bcb.gov.br/dados/serie/bcdata.sgs.11/dados?formato=csv&dataInicial={inicio}&dataFinal={fim}\"\n",
        "\n",
        "try:\n",
        "    response = requests.get(url)\n",
        "    response.raise_for_status()\n",
        "\n",
        "    df_selic = pd.read_csv(StringIO(response.text), sep=';')\n",
        "    df_selic['data'] = pd.to_datetime(df_selic['data'], format='%d/%m/%Y')\n",
        "\n",
        "    print(df_selic)\n",
        "\n",
        "except requests.RequestException as e:\n",
        "  print(e)"
      ]
    },
    {
      "cell_type": "markdown",
      "source": [
        "2. Converter a taxa diária para anual, através da seguinte equação:\n",
        "$$T_{anual} = (1+T_{diaria})^{252}-1$$\n",
        "em que:\n",
        "- $T_{diaria}$ é a taxa diária expressa em valor decimal.\n",
        "- O número 252 representa a quantidade aproximada de dias úteis em um ano."
      ],
      "metadata": {
        "id": "e-Mt9XYejLas"
      }
    },
    {
      "cell_type": "code",
      "source": [
        "df_selic = df_selic.rename(columns={'valor': 'SELIC diária'})\n",
        "\n",
        "df_selic['SELIC diária'] = df_selic['SELIC diária'].str.replace(',', '.')\n",
        "df_selic['SELIC diária'] = pd.to_numeric(df_selic['SELIC diária'], errors='coerce')"
      ],
      "metadata": {
        "id": "KSJDGI8hxIb8"
      },
      "execution_count": null,
      "outputs": []
    },
    {
      "cell_type": "code",
      "source": [
        "df_selic[\"SELIC anual\"] = ((1 + (df_selic[\"SELIC diária\"])/100)**(252) -1)*100\n",
        "\n",
        "print(df_selic)"
      ],
      "metadata": {
        "colab": {
          "base_uri": "https://localhost:8080/"
        },
        "id": "QdEevsi4jyRB",
        "outputId": "0c5a47eb-1d2d-4935-b325-7c8f084f0415"
      },
      "execution_count": null,
      "outputs": [
        {
          "output_type": "stream",
          "name": "stdout",
          "text": [
            "         data  SELIC diária  SELIC anual\n",
            "0  2015-03-02      0.045513    12.149954\n",
            "1  2015-03-03      0.045513    12.149954\n",
            "2  2015-03-04      0.045513    12.149954\n",
            "3  2015-03-05      0.047279    12.649937\n",
            "4  2015-03-06      0.047279    12.649937\n",
            "5  2015-03-09      0.047279    12.649937\n",
            "6  2015-03-10      0.047279    12.649937\n",
            "7  2015-03-11      0.047279    12.649937\n",
            "8  2015-03-12      0.047279    12.649937\n",
            "9  2015-03-13      0.047279    12.649937\n",
            "10 2015-03-16      0.047279    12.649937\n",
            "11 2015-03-17      0.047279    12.649937\n",
            "12 2015-03-18      0.047279    12.649937\n",
            "13 2015-03-19      0.047279    12.649937\n",
            "14 2015-03-20      0.047279    12.649937\n"
          ]
        }
      ]
    },
    {
      "cell_type": "markdown",
      "source": [
        "3. Calcular a taxa selic acumulada através da seguinte equação:\n",
        "$$T_{acumulada}= \\prod_{}^{}(1 + T_{diaria})-1$$\n",
        "em que o produtório é calculado ao longo de todos os dias do período analisado."
      ],
      "metadata": {
        "id": "mruOvJXAzLL9"
      }
    },
    {
      "cell_type": "code",
      "source": [
        "df_selic['SELIC acumulada'] = (( (1 + df_selic['SELIC diária'] / 100).cumprod() ) - 1)*100\n",
        "\n",
        "print(df_selic)"
      ],
      "metadata": {
        "colab": {
          "base_uri": "https://localhost:8080/"
        },
        "id": "b3SVUmfm0Qdv",
        "outputId": "d0217d9d-7c9a-4b68-b623-404ae1e681b8"
      },
      "execution_count": null,
      "outputs": [
        {
          "output_type": "stream",
          "name": "stdout",
          "text": [
            "         data  SELIC diária  SELIC anual  SELIC acumulada\n",
            "0  2015-03-02      0.045513    12.149954         0.045513\n",
            "1  2015-03-03      0.045513    12.149954         0.091047\n",
            "2  2015-03-04      0.045513    12.149954         0.136601\n",
            "3  2015-03-05      0.047279    12.649937         0.183945\n",
            "4  2015-03-06      0.047279    12.649937         0.231311\n",
            "5  2015-03-09      0.047279    12.649937         0.278699\n",
            "6  2015-03-10      0.047279    12.649937         0.326110\n",
            "7  2015-03-11      0.047279    12.649937         0.373543\n",
            "8  2015-03-12      0.047279    12.649937         0.420999\n",
            "9  2015-03-13      0.047279    12.649937         0.468477\n",
            "10 2015-03-16      0.047279    12.649937         0.515977\n",
            "11 2015-03-17      0.047279    12.649937         0.563500\n",
            "12 2015-03-18      0.047279    12.649937         0.611046\n",
            "13 2015-03-19      0.047279    12.649937         0.658613\n",
            "14 2015-03-20      0.047279    12.649937         0.706204\n"
          ]
        }
      ]
    },
    {
      "cell_type": "markdown",
      "source": [
        "4. Apresentar os resultados em uma planilha\n"
      ],
      "metadata": {
        "id": "L_WKIzoN2aOe"
      }
    },
    {
      "cell_type": "code",
      "source": [
        "print(df_selic.to_markdown(index=False))"
      ],
      "metadata": {
        "colab": {
          "base_uri": "https://localhost:8080/"
        },
        "id": "LkGrDTQ52hoi",
        "outputId": "c154fc2a-a3dc-4ae8-ce3d-09ed56a57061"
      },
      "execution_count": null,
      "outputs": [
        {
          "output_type": "stream",
          "name": "stdout",
          "text": [
            "| data                |   SELIC diária |   SELIC anual |   SELIC acumulada |\n",
            "|:--------------------|---------------:|--------------:|------------------:|\n",
            "| 2015-03-02 00:00:00 |       0.045513 |       12.15   |         0.045513  |\n",
            "| 2015-03-03 00:00:00 |       0.045513 |       12.15   |         0.0910467 |\n",
            "| 2015-03-04 00:00:00 |       0.045513 |       12.15   |         0.136601  |\n",
            "| 2015-03-05 00:00:00 |       0.047279 |       12.6499 |         0.183945  |\n",
            "| 2015-03-06 00:00:00 |       0.047279 |       12.6499 |         0.231311  |\n",
            "| 2015-03-09 00:00:00 |       0.047279 |       12.6499 |         0.278699  |\n",
            "| 2015-03-10 00:00:00 |       0.047279 |       12.6499 |         0.32611   |\n",
            "| 2015-03-11 00:00:00 |       0.047279 |       12.6499 |         0.373543  |\n",
            "| 2015-03-12 00:00:00 |       0.047279 |       12.6499 |         0.420999  |\n",
            "| 2015-03-13 00:00:00 |       0.047279 |       12.6499 |         0.468477  |\n",
            "| 2015-03-16 00:00:00 |       0.047279 |       12.6499 |         0.515977  |\n",
            "| 2015-03-17 00:00:00 |       0.047279 |       12.6499 |         0.5635    |\n",
            "| 2015-03-18 00:00:00 |       0.047279 |       12.6499 |         0.611046  |\n",
            "| 2015-03-19 00:00:00 |       0.047279 |       12.6499 |         0.658613  |\n",
            "| 2015-03-20 00:00:00 |       0.047279 |       12.6499 |         0.706204  |\n"
          ]
        }
      ]
    },
    {
      "cell_type": "markdown",
      "source": [],
      "metadata": {
        "id": "yf94PRxo4KO9"
      }
    }
  ]
}